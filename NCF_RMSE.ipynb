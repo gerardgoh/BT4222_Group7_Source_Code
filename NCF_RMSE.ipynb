{
  "cells": [
    {
      "cell_type": "code",
      "source": [
        "from google.colab import drive\n",
        "drive.mount('/content/drive')"
      ],
      "metadata": {
        "id": "n9W6HPSUuEye",
        "outputId": "6f5142bf-c0e8-4e09-a864-ac7d0a8f186c",
        "colab": {
          "base_uri": "https://localhost:8080/"
        }
      },
      "execution_count": null,
      "outputs": [
        {
          "output_type": "stream",
          "name": "stdout",
          "text": [
            "Mounted at /content/drive\n"
          ]
        }
      ]
    },
    {
      "cell_type": "code",
      "execution_count": null,
      "metadata": {
        "id": "gPGzKSBmtrhx"
      },
      "outputs": [],
      "source": [
        "import pandas as pd\n",
        "import numpy as np\n",
        "import json\n",
        "import torch\n",
        "import torch.nn as nn\n",
        "import torch.optim as optim\n",
        "from torch.utils.data import Dataset, DataLoader\n",
        "from sklearn.model_selection import train_test_split\n",
        "from sklearn.preprocessing import LabelEncoder\n",
        "import gzip"
      ]
    },
    {
      "cell_type": "code",
      "execution_count": null,
      "metadata": {
        "id": "fQUo3pJutrhy"
      },
      "outputs": [],
      "source": [
        "file_path = \"/content/drive/MyDrive/bt4222data/Raw Data/reviews_Electronics_5.json.gz\"\n",
        "\n",
        "def parse(path):\n",
        "  g = gzip.open(path, 'rb')\n",
        "  for l in g:\n",
        "    yield eval(l)\n",
        "\n",
        "def getDF(path):\n",
        "  i = 0\n",
        "  df = {}\n",
        "  for d in parse(path):\n",
        "    df[i] = d\n",
        "    i += 1\n",
        "  return pd.DataFrame.from_dict(df, orient='index')\n",
        "\n",
        "reviews = getDF(file_path)"
      ]
    },
    {
      "cell_type": "code",
      "execution_count": null,
      "metadata": {
        "id": "_MJo6Pi4trhy"
      },
      "outputs": [],
      "source": [
        "reviews_df = reviews"
      ]
    },
    {
      "cell_type": "code",
      "execution_count": null,
      "metadata": {
        "id": "4GHV_8FCtrhy",
        "outputId": "9c14445f-798d-489c-c6cd-716b556df43f",
        "colab": {
          "base_uri": "https://localhost:8080/"
        }
      },
      "outputs": [
        {
          "output_type": "stream",
          "name": "stdout",
          "text": [
            "Missing values in reviewerID: 0\n",
            "Missing values in asin: 0\n",
            "Missing values in overall: 0\n"
          ]
        }
      ],
      "source": [
        "# Check for missing values\n",
        "print(f\"Missing values in reviewerID: {reviews_df['reviewerID'].isna().sum()}\")\n",
        "print(f\"Missing values in asin: {reviews_df['asin'].isna().sum()}\")\n",
        "print(f\"Missing values in overall: {reviews_df['overall'].isna().sum()}\")"
      ]
    },
    {
      "cell_type": "code",
      "execution_count": null,
      "metadata": {
        "id": "UhyMdzpftrhy"
      },
      "outputs": [],
      "source": [
        "# Encode user IDs and item IDs\n",
        "user_encoder = LabelEncoder()\n",
        "item_encoder = LabelEncoder()\n",
        "\n",
        "reviews_df['user_idx'] = user_encoder.fit_transform(reviews_df['reviewerID'])\n",
        "reviews_df['item_idx'] = item_encoder.fit_transform(reviews_df['asin'])\n"
      ]
    },
    {
      "cell_type": "code",
      "execution_count": null,
      "metadata": {
        "id": "fGfAJM9ctrhz",
        "outputId": "7347c8ce-7a5c-45bf-f769-04ded0872817",
        "colab": {
          "base_uri": "https://localhost:8080/"
        }
      },
      "outputs": [
        {
          "output_type": "stream",
          "name": "stdout",
          "text": [
            "Number of users: 192403\n",
            "Number of items: 63001\n",
            "Number of ratings: 1689188\n",
            "Average ratings per user: 8.78\n",
            "Rating density: 0.0139%\n"
          ]
        }
      ],
      "source": [
        "\n",
        "n_users = reviews_df['user_idx'].nunique()\n",
        "n_items = reviews_df['item_idx'].nunique()\n",
        "print(f\"Number of users: {n_users}\")\n",
        "print(f\"Number of items: {n_items}\")\n",
        "print(f\"Number of ratings: {len(reviews_df)}\")\n",
        "print(f\"Average ratings per user: {len(reviews_df) / n_users:.2f}\")\n",
        "print(f\"Rating density: {len(reviews_df) / (n_users * n_items) * 100:.4f}%\")"
      ]
    },
    {
      "cell_type": "code",
      "execution_count": null,
      "metadata": {
        "id": "LLtH6jh7trhz"
      },
      "outputs": [],
      "source": [
        "class AmazonReviewsDataset(Dataset):\n",
        "    def __init__(self, user_indices, item_indices, ratings):\n",
        "        self.user_indices = user_indices\n",
        "        self.item_indices = item_indices\n",
        "        self.ratings = ratings\n",
        "\n",
        "    def __len__(self):\n",
        "        return len(self.ratings)\n",
        "\n",
        "    def __getitem__(self, idx):\n",
        "        return (\n",
        "            torch.tensor(self.user_indices[idx], dtype=torch.long),\n",
        "            torch.tensor(self.item_indices[idx], dtype=torch.long),\n",
        "            torch.tensor(self.ratings[idx], dtype=torch.float)\n",
        "        )\n",
        "\n",
        "# Split the data into train and test sets\n",
        "train_df, test_df = train_test_split(reviews_df, test_size=0.2, random_state=42)"
      ]
    },
    {
      "cell_type": "code",
      "execution_count": null,
      "metadata": {
        "id": "B_zw9x8vtrhz"
      },
      "outputs": [],
      "source": [
        "# Create datasets\n",
        "train_dataset = AmazonReviewsDataset(\n",
        "    train_df['user_idx'].values,\n",
        "    train_df['item_idx'].values,\n",
        "    train_df['overall'].values\n",
        ")\n",
        "\n",
        "test_dataset = AmazonReviewsDataset(\n",
        "    test_df['user_idx'].values,\n",
        "    test_df['item_idx'].values,\n",
        "    test_df['overall'].values\n",
        ")"
      ]
    },
    {
      "cell_type": "code",
      "execution_count": null,
      "metadata": {
        "id": "HD2SaQE_trhz"
      },
      "outputs": [],
      "source": [
        "# Create data loaders\n",
        "batch_size = 1024\n",
        "train_loader = DataLoader(train_dataset, batch_size=batch_size, shuffle=True)\n",
        "test_loader = DataLoader(test_dataset, batch_size=batch_size)"
      ]
    },
    {
      "cell_type": "code",
      "execution_count": null,
      "metadata": {
        "id": "g-2q0ed_trhz"
      },
      "outputs": [],
      "source": [
        "class NCF(nn.Module):\n",
        "    def __init__(self, n_users, n_items, embed_dim=64, layers=[128, 64, 32, 16]):\n",
        "        super(NCF, self).__init__()\n",
        "\n",
        "        # User and item embedding layers\n",
        "        self.user_embedding_gmf = nn.Embedding(n_users, embed_dim)\n",
        "        self.item_embedding_gmf = nn.Embedding(n_items, embed_dim)\n",
        "        self.user_embedding_mlp = nn.Embedding(n_users, embed_dim)\n",
        "        self.item_embedding_mlp = nn.Embedding(n_items, embed_dim)\n",
        "\n",
        "        # MLP layers\n",
        "        self.mlp_layers = nn.ModuleList()\n",
        "        input_dim = 2 * embed_dim\n",
        "        for next_dim in layers:\n",
        "            self.mlp_layers.append(nn.Linear(input_dim, next_dim))\n",
        "            self.mlp_layers.append(nn.ReLU())\n",
        "            input_dim = next_dim\n",
        "\n",
        "        # Output layer\n",
        "        self.output = nn.Linear(layers[-1] + embed_dim, 1)\n",
        "\n",
        "        # Initialize weights\n",
        "        self._init_weights_()\n",
        "\n",
        "    def _init_weights_(self):\n",
        "        for m in self.modules():\n",
        "            if isinstance(m, nn.Embedding):\n",
        "                nn.init.normal_(m.weight, mean=0, std=0.01)\n",
        "            elif isinstance(m, nn.Linear):\n",
        "                nn.init.xavier_uniform_(m.weight)\n",
        "                if m.bias is not None:\n",
        "                    nn.init.zeros_(m.bias)\n",
        "\n",
        "    def forward(self, user_indices, item_indices):\n",
        "        # GMF path\n",
        "        user_emb_gmf = self.user_embedding_gmf(user_indices)\n",
        "        item_emb_gmf = self.item_embedding_gmf(item_indices)\n",
        "        gmf_output = user_emb_gmf * item_emb_gmf\n",
        "\n",
        "        # MLP path\n",
        "        user_emb_mlp = self.user_embedding_mlp(user_indices)\n",
        "        item_emb_mlp = self.item_embedding_mlp(item_indices)\n",
        "        mlp_input = torch.cat([user_emb_mlp, item_emb_mlp], dim=-1)\n",
        "\n",
        "        mlp_output = mlp_input\n",
        "        for layer in self.mlp_layers:\n",
        "            mlp_output = layer(mlp_output)\n",
        "\n",
        "        # Concatenate GMF and MLP outputs\n",
        "        concat = torch.cat([gmf_output, mlp_output], dim=-1)\n",
        "\n",
        "        # Final prediction\n",
        "        prediction = self.output(concat)\n",
        "        return prediction.squeeze()"
      ]
    },
    {
      "cell_type": "code",
      "execution_count": null,
      "metadata": {
        "id": "fCNMX5y3trhz"
      },
      "outputs": [],
      "source": [
        "def train(model, train_loader, optimizer, criterion, device):\n",
        "    model.train()\n",
        "    total_loss = 0\n",
        "    for user_indices, item_indices, ratings in train_loader:\n",
        "        user_indices, item_indices, ratings = user_indices.to(device), item_indices.to(device), ratings.to(device)\n",
        "\n",
        "        # Forward pass\n",
        "        predictions = model(user_indices, item_indices)\n",
        "        loss = criterion(predictions, ratings)\n",
        "\n",
        "        # Backward pass and optimize\n",
        "        optimizer.zero_grad()\n",
        "        loss.backward()\n",
        "        optimizer.step()\n",
        "\n",
        "        total_loss += loss.item()\n",
        "\n",
        "    return total_loss / len(train_loader)"
      ]
    },
    {
      "cell_type": "code",
      "execution_count": null,
      "metadata": {
        "id": "y5SB_4Dntrhz"
      },
      "outputs": [],
      "source": [
        "def evaluate(model, data_loader, criterion, device):\n",
        "    model.eval()\n",
        "    total_loss = 0\n",
        "    with torch.no_grad():\n",
        "        for user_indices, item_indices, ratings in data_loader:\n",
        "            user_indices, item_indices, ratings = user_indices.to(device), item_indices.to(device), ratings.to(device)\n",
        "\n",
        "            # Forward pass\n",
        "            predictions = model(user_indices, item_indices)\n",
        "            loss = criterion(predictions, ratings)\n",
        "\n",
        "            total_loss += loss.item()\n",
        "\n",
        "    return total_loss / len(data_loader)"
      ]
    },
    {
      "cell_type": "code",
      "execution_count": null,
      "metadata": {
        "id": "f07LZFIutrhz",
        "outputId": "c5c5c81b-bb16-4e6f-bc9b-ffdb70b398c4",
        "colab": {
          "base_uri": "https://localhost:8080/"
        }
      },
      "outputs": [
        {
          "output_type": "stream",
          "name": "stdout",
          "text": [
            "Using device: cuda\n"
          ]
        }
      ],
      "source": [
        "# 5. Model Training\n",
        "\n",
        "device = torch.device(\"cuda\" if torch.cuda.is_available() else \"cpu\")\n",
        "print(f\"Using device: {device}\")\n"
      ]
    },
    {
      "cell_type": "code",
      "execution_count": null,
      "metadata": {
        "id": "8J0Wru_Vtrh0",
        "outputId": "b711f28c-965d-45bd-8381-f9d30de7234c",
        "colab": {
          "base_uri": "https://localhost:8080/"
        }
      },
      "outputs": [
        {
          "output_type": "stream",
          "name": "stdout",
          "text": [
            "Epoch 1/10, Train Loss: 1.7658, Test Loss: 1.2042\n",
            "Epoch 2/10, Train Loss: 0.8723, Test Loss: 1.2554\n",
            "Epoch 3/10, Train Loss: 0.2675, Test Loss: 1.3190\n",
            "Epoch 4/10, Train Loss: 0.0805, Test Loss: 1.3409\n",
            "Epoch 5/10, Train Loss: 0.0504, Test Loss: 1.3525\n",
            "Epoch 6/10, Train Loss: 0.0580, Test Loss: 1.3500\n",
            "Epoch 7/10, Train Loss: 0.0637, Test Loss: 1.3366\n",
            "Epoch 8/10, Train Loss: 0.0522, Test Loss: 1.3240\n",
            "Epoch 9/10, Train Loss: 0.0421, Test Loss: 1.3216\n",
            "Epoch 10/10, Train Loss: 0.0399, Test Loss: 1.3265\n"
          ]
        }
      ],
      "source": [
        "# Model parameters\n",
        "embed_dim = 64\n",
        "mlp_layers = [128, 64, 32, 16]\n",
        "learning_rate = 0.001\n",
        "n_epochs = 10\n",
        "\n",
        "# Initialize model, loss, and optimizer\n",
        "model = NCF(n_users, n_items, embed_dim=embed_dim, layers=mlp_layers).to(device)\n",
        "criterion = nn.MSELoss()\n",
        "optimizer = optim.Adam(model.parameters(), lr=learning_rate)\n",
        "\n",
        "# Training loop\n",
        "for epoch in range(n_epochs):\n",
        "        # Train for one epoch\n",
        "        train_loss = train(model, train_loader, optimizer, criterion, device)\n",
        "        test_loss = evaluate(model, test_loader, criterion, device)\n",
        "\n",
        "        # Calculate RMSE for train and test sets\n",
        "        with torch.no_grad():\n",
        "            train_rmse = calculate_rmse(model, train_loader, device)\n",
        "            val_rmse = calculate_rmse(model, test_loader, device)\n",
        "\n",
        "        # Store losses and RMSEs\n",
        "        train_losses.append(train_loss)\n",
        "        val_losses.append(test_loss)\n",
        "        train_rmses.append(train_rmse)\n",
        "        val_rmses.append(val_rmse)\n",
        "\n",
        "        print(f\"Epoch {epoch+1}/{n_epochs}, Train Loss: {train_loss:.4f}, Test Loss: {test_loss:.4f}\")\n",
        "        print(f\"Train RMSE: {train_rmse:.4f}, Val RMSE: {val_rmse:.4f}\")\n",
        "\n",
        "    # Visualize training progress\n",
        "    plt.figure(figsize=(12, 5))\n",
        "    plt.subplot(1, 2, 1)\n",
        "    plt.plot(train_losses, label='Train Loss')\n",
        "    plt.plot(val_losses, label='Validation Loss')\n",
        "    plt.title('NCF Baseline Loss')\n",
        "    plt.xlabel('Epoch')\n",
        "    plt.ylabel('Loss')\n",
        "    plt.legend()\n",
        "    plt.grid(True)\n",
        "\n",
        "    plt.subplot(1, 2, 2)\n",
        "    plt.plot(train_rmses, label='Train RMSE')\n",
        "    plt.plot(val_rmses, label='Validation RMSE')\n",
        "    plt.title('NCF Baseline RMSE')\n",
        "    plt.xlabel('Epoch')\n",
        "    plt.ylabel('RMSE')\n",
        "    plt.legend()\n",
        "    plt.grid(True)\n",
        "    plt.tight_layout()\n",
        "    plt.savefig('ncf_baseline_training_history.png')\n",
        "    plt.show()"
      ]
    },
    {
      "cell_type": "code",
      "execution_count": null,
      "metadata": {
        "id": "kPH0zQmGtrh0"
      },
      "outputs": [],
      "source": [
        "def get_top_n_recommendations(model, user_id, n=10):\n",
        "    \"\"\"\n",
        "    Generate top N recommendations for a user\n",
        "    \"\"\"\n",
        "    model.eval()\n",
        "    user = user_encoder.transform([user_id])[0]\n",
        "\n",
        "    # Create tensor with all items for the user\n",
        "    user_tensor = torch.tensor([user] * n_items, dtype=torch.long).to(device)\n",
        "    item_tensor = torch.tensor(list(range(n_items)), dtype=torch.long).to(device)\n",
        "\n",
        "    # Get predictions\n",
        "    with torch.no_grad():\n",
        "        predictions = model(user_tensor, item_tensor)\n",
        "\n",
        "    # Get top N item indices\n",
        "    _, indices = torch.topk(predictions, n)\n",
        "\n",
        "    # Convert back to original item IDs\n",
        "    recommended_items = [item_encoder.inverse_transform([idx.item()])[0] for idx in indices]\n",
        "\n",
        "    return recommended_items"
      ]
    },
    {
      "cell_type": "code",
      "execution_count": null,
      "metadata": {
        "id": "1OzJMMVBtrh0",
        "outputId": "092f4f2e-b1f6-4e59-e83a-cfb41fd5c347",
        "colab": {
          "base_uri": "https://localhost:8080/"
        }
      },
      "outputs": [
        {
          "output_type": "stream",
          "name": "stdout",
          "text": [
            "Top 10 recommendations for user AO94DHGC771SJ:\n",
            "1. B001TQSFXS\n",
            "2. B0023ZK2TY\n",
            "3. B005UNFRU0\n",
            "4. B0002Y5WZC\n",
            "5. B009NB8WR0\n",
            "6. B0046TJG1U\n",
            "7. B001ULBP8E\n",
            "8. B004G7D0EG\n",
            "9. B004071ZXA\n",
            "10. B007U5MGDC\n"
          ]
        }
      ],
      "source": [
        "# Example: Get recommendations for a specific user\n",
        "sample_user = reviews_df['reviewerID'].iloc[0]\n",
        "recommendations = get_top_n_recommendations(model, sample_user, n=10)\n",
        "print(f\"Top 10 recommendations for user {sample_user}:\")\n",
        "for i, item in enumerate(recommendations, 1):\n",
        "    print(f\"{i}. {item}\")\n"
      ]
    },
    {
      "cell_type": "code",
      "execution_count": null,
      "metadata": {
        "id": "Adj9mtIetrh0"
      },
      "outputs": [],
      "source": [
        "def calculate_rmse(model, data_loader, device):\n",
        "    \"\"\"\n",
        "    Calculate RMSE on the provided data loader\n",
        "    \"\"\"\n",
        "    model.eval()\n",
        "    predictions = []\n",
        "    actuals = []\n",
        "\n",
        "    with torch.no_grad():\n",
        "        for user_indices, item_indices, ratings in data_loader:\n",
        "            user_indices, item_indices = user_indices.to(device), item_indices.to(device)\n",
        "\n",
        "            # Get predictions\n",
        "            preds = model(user_indices, item_indices)\n",
        "            predictions.extend(preds.cpu().numpy())\n",
        "            actuals.extend(ratings.numpy())\n",
        "\n",
        "    # Calculate RMSE\n",
        "    rmse = np.sqrt(np.mean((np.array(predictions) - np.array(actuals)) ** 2))\n",
        "    return rmse\n"
      ]
    },
    {
      "cell_type": "code",
      "execution_count": null,
      "metadata": {
        "id": "40ncxI8gtrh0"
      },
      "outputs": [],
      "source": [
        "def calculate_mae(model, data_loader, device):\n",
        "    \"\"\"\n",
        "    Calculate MAE on the provided data loader\n",
        "    \"\"\"\n",
        "    model.eval()\n",
        "    predictions = []\n",
        "    actuals = []\n",
        "\n",
        "    with torch.no_grad():\n",
        "        for user_indices, item_indices, ratings in data_loader:\n",
        "            user_indices, item_indices = user_indices.to(device), item_indices.to(device)\n",
        "\n",
        "            # Get predictions\n",
        "            preds = model(user_indices, item_indices)\n",
        "            predictions.extend(preds.cpu().numpy())\n",
        "            actuals.extend(ratings.numpy())\n",
        "\n",
        "    # Calculate MAE\n",
        "    mae = np.mean(np.abs(np.array(predictions) - np.array(actuals)))\n",
        "    return mae\n"
      ]
    },
    {
      "cell_type": "markdown",
      "source": [
        "Calculating the RMSE for the model"
      ],
      "metadata": {
        "id": "YTuz6CsdOsIk"
      }
    },
    {
      "cell_type": "code",
      "execution_count": null,
      "metadata": {
        "id": "R3Hzk9ELtrh0",
        "outputId": "1f59950c-af2f-4cd1-ce60-7e96f7b40773",
        "colab": {
          "base_uri": "https://localhost:8080/"
        }
      },
      "outputs": [
        {
          "output_type": "stream",
          "name": "stdout",
          "text": [
            "Test RMSE: 1.1517\n",
            "Test MAE: 0.9039\n"
          ]
        }
      ],
      "source": [
        "rmse = calculate_rmse(model, test_loader, device)\n",
        "mae = calculate_mae(model, test_loader, device)\n",
        "\n",
        "print(f\"Test RMSE: {rmse:.4f}\")\n",
        "print(f\"Test MAE: {mae:.4f}\")\n"
      ]
    },
    {
      "cell_type": "markdown",
      "source": [
        "Saving the model into Google Drive"
      ],
      "metadata": {
        "id": "TrWSzJCrOp1z"
      }
    },
    {
      "cell_type": "code",
      "execution_count": null,
      "metadata": {
        "id": "1kavJfATtrh0",
        "outputId": "9587c415-3c20-40b0-d2c3-0cc14783f9f1",
        "colab": {
          "base_uri": "https://localhost:8080/"
        }
      },
      "outputs": [
        {
          "output_type": "stream",
          "name": "stdout",
          "text": [
            "Model saved successfully!\n"
          ]
        }
      ],
      "source": [
        "save_path = \"/content/drive/MyDrive/bt4222data/models/ncf_baseline_model.pth\"\n",
        "\n",
        "torch.save({\n",
        "    'model_state_dict': model.state_dict(),\n",
        "    'user_encoder': user_encoder,\n",
        "    'item_encoder': item_encoder,\n",
        "    'n_users': n_users,\n",
        "    'n_items': n_items,\n",
        "    'embed_dim': embed_dim,\n",
        "    'mlp_layers': mlp_layers\n",
        "}, save_path)\n",
        "\n",
        "print(\"Model saved successfully!\")"
      ]
    },
    {
      "cell_type": "markdown",
      "source": [
        "Cold Start Analysis"
      ],
      "metadata": {
        "id": "tT9emndtaxOh"
      }
    },
    {
      "cell_type": "code",
      "source": [
        "item_counts = reviews_df['asin'].value_counts()\n",
        "cold_start_items = item_counts[item_counts < 6].index.tolist()\n",
        "print(f\"\\nNumber of cold-start items (fewer than 6 interactions): {len(cold_start_items)}\")\n",
        "\n",
        "cold_start_mask = test_df['asin'].isin(cold_start_items)\n",
        "cold_start_test_df = test_df[cold_start_mask]\n",
        "print(f\"Cold-start test instances: {len(cold_start_test_df)}\")\n",
        "\n",
        "# Evaluate on cold-start items\n",
        "def calculate_rmse_subset(model, user_indices, item_indices, ratings, device):\n",
        "    model.eval()\n",
        "    predictions = []\n",
        "    actuals = []\n",
        "\n",
        "    # Process in batches to avoid memory issues\n",
        "    batch_size = 1024\n",
        "    for i in range(0, len(user_indices), batch_size):\n",
        "        batch_users = torch.tensor(user_indices[i:i+batch_size], dtype=torch.long).to(device)\n",
        "        batch_items = torch.tensor(item_indices[i:i+batch_size], dtype=torch.long).to(device)\n",
        "        batch_ratings = ratings[i:i+batch_size]\n",
        "\n",
        "        with torch.no_grad():\n",
        "            preds = model(batch_users, batch_items)\n",
        "            predictions.extend(preds.cpu().numpy())\n",
        "            actuals.extend(batch_ratings)\n",
        "\n",
        "    if len(predictions) == 0:\n",
        "        return float('nan')\n",
        "\n",
        "    return np.sqrt(np.mean((np.array(predictions) - np.array(actuals)) ** 2))\n",
        "\n",
        "cold_start_rmse = calculate_rmse_subset(\n",
        "    model,\n",
        "    cold_start_test_df['user_idx'].values,\n",
        "    cold_start_test_df['item_idx'].values,\n",
        "    cold_start_test_df['overall'].values,\n",
        "    device\n",
        ")\n",
        "\n",
        "print(\"\\n=== Cold-Start Performance Report ===\")\n",
        "print(f\"Overall Test RMSE: {rmse:.4f}\")\n",
        "print(f\"Cold-Start Items RMSE: {cold_start_rmse:.4f}\")"
      ],
      "metadata": {
        "id": "5ci4Mquwaw2O",
        "outputId": "4fb61965-3d65-44ff-9002-902dbf550f5b",
        "colab": {
          "base_uri": "https://localhost:8080/"
        }
      },
      "execution_count": null,
      "outputs": [
        {
          "output_type": "stream",
          "name": "stdout",
          "text": [
            "Number of cold-start items (fewer than 6 interactions): 8796\n",
            "Cold-start test instances: 8847\n",
            "\n",
            "=== Cold-Start Performance Report ===\n",
            "Overall Test RMSE: 1.1517\n",
            "Cold-Start Items RMSE: 1.2329\n"
          ]
        }
      ]
    }
  ],
  "metadata": {
    "kernelspec": {
      "display_name": "Python 3",
      "name": "python3"
    },
    "language_info": {
      "codemirror_mode": {
        "name": "ipython",
        "version": 3
      },
      "file_extension": ".py",
      "mimetype": "text/x-python",
      "name": "python",
      "nbconvert_exporter": "python",
      "pygments_lexer": "ipython3",
      "version": "3.10.11"
    },
    "colab": {
      "provenance": [],
      "machine_shape": "hm",
      "gpuType": "T4"
    },
    "accelerator": "GPU"
  },
  "nbformat": 4,
  "nbformat_minor": 0
}